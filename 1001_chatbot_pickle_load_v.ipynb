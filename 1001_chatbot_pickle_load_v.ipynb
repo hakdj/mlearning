{
  "nbformat": 4,
  "nbformat_minor": 0,
  "metadata": {
    "colab": {
      "name": "1001_chatbot_pickle_load_v.ipynb",
      "provenance": [],
      "collapsed_sections": []
    },
    "kernelspec": {
      "name": "python3",
      "display_name": "Python 3"
    },
    "language_info": {
      "name": "python"
    }
  },
  "cells": [
    {
      "cell_type": "markdown",
      "metadata": {
        "id": "3GuPCmVQ6hm-"
      },
      "source": [
        "0928chatbot에서 픽클 저장후 불러온 픽클로 돌리기"
      ]
    },
    {
      "cell_type": "markdown",
      "metadata": {
        "id": "5W7n8jAk6wGW"
      },
      "source": [
        "!pip는 ipynb에서 설치때문에"
      ]
    },
    {
      "cell_type": "code",
      "metadata": {
        "id": "GiKgGiJowm8s"
      },
      "source": [
        "!pip install numpy\n",
        "!pip install nltk\n",
        "!pip install tensorflow\n",
        "!pip install tflearn"
      ],
      "execution_count": null,
      "outputs": []
    },
    {
      "cell_type": "markdown",
      "metadata": {
        "id": "B-pv_ikD7Ag6"
      },
      "source": [
        "아래 import만 있음 됨"
      ]
    },
    {
      "cell_type": "code",
      "metadata": {
        "colab": {
          "base_uri": "https://localhost:8080/"
        },
        "id": "2t9j1sstwjcG",
        "outputId": "3a4864db-62fe-4fee-8fae-dce7911f7553"
      },
      "source": [
        "import nltk\n",
        "from nltk.stem.lancaster import LancasterStemmer\n",
        "stemmer = LancasterStemmer()\n",
        "\n",
        "import numpy\n",
        "import tflearn\n",
        "import tensorflow\n",
        "import random\n",
        "\n",
        "import pickle\n",
        "import json\n",
        "from tensorflow.python.framework import ops\n",
        "nltk.download('punkt')"
      ],
      "execution_count": 2,
      "outputs": [
        {
          "output_type": "stream",
          "name": "stdout",
          "text": [
            "WARNING:tensorflow:From /usr/local/lib/python3.7/dist-packages/tensorflow/python/compat/v2_compat.py:101: disable_resource_variables (from tensorflow.python.ops.variable_scope) is deprecated and will be removed in a future version.\n",
            "Instructions for updating:\n",
            "non-resource variables are not supported in the long term\n",
            "[nltk_data] Downloading package punkt to /root/nltk_data...\n",
            "[nltk_data]   Unzipping tokenizers/punkt.zip.\n"
          ]
        },
        {
          "output_type": "execute_result",
          "data": {
            "text/plain": [
              "True"
            ]
          },
          "metadata": {},
          "execution_count": 2
        }
      ]
    },
    {
      "cell_type": "markdown",
      "metadata": {
        "id": "5r1Ckz-n7GGe"
      },
      "source": [
        "#### 집밥 json 데이터를 data로 로드시키기"
      ]
    },
    {
      "cell_type": "code",
      "metadata": {
        "id": "eEVjGQhx30dq"
      },
      "source": [
        "with open('Zipbob_chatbotdata.json' ,encoding='UTF8') as file:\n",
        "    data = json.load(file)"
      ],
      "execution_count": 3,
      "outputs": []
    },
    {
      "cell_type": "markdown",
      "metadata": {
        "id": "_YF4EF3A7Jam"
      },
      "source": [
        "#### 집밥 pickle 데이터를 열고 words,labels... 으로 불러오기"
      ]
    },
    {
      "cell_type": "code",
      "metadata": {
        "id": "Wh7fXjmPvbWv"
      },
      "source": [
        "  with open(\"Zipbobchat.pickle\", \"rb\") as f:\n",
        "        words, labels, training, output=pickle.load(f)"
      ],
      "execution_count": 4,
      "outputs": []
    },
    {
      "cell_type": "markdown",
      "metadata": {
        "id": "3fd-XCGe7O1D"
      },
      "source": [
        "#### pickle, json, model.tflearn(3개) 다 있어야 실행 가능"
      ]
    },
    {
      "cell_type": "code",
      "metadata": {
        "colab": {
          "base_uri": "https://localhost:8080/"
        },
        "id": "aKj2JS6cwzTA",
        "outputId": "005ca9fb-f8cf-406c-fab0-0f0bbd65c78f"
      },
      "source": [
        "ops.reset_default_graph()\n",
        "\n",
        "net = tflearn.input_data(shape=[None, len(training[0])])\n",
        "net = tflearn.fully_connected(net, 8)\n",
        "net = tflearn.fully_connected(net, 8)\n",
        "net = tflearn.fully_connected(net, len(output[0]), activation=\"softmax\")\n",
        "net = tflearn.regression(net)\n",
        "\n",
        "model = tflearn.DNN(net)\n",
        "\n",
        "try:\n",
        "    model.load(\"model.tflearn\")\n",
        "except:\n",
        "    model.fit(training, output, n_epoch=1000, batch_size=8, show_metric=True)\n",
        "    model.save(\"model.tflearn\")"
      ],
      "execution_count": 9,
      "outputs": [
        {
          "output_type": "stream",
          "name": "stdout",
          "text": [
            "INFO:tensorflow:Restoring parameters from /content/model.tflearn\n"
          ]
        }
      ]
    },
    {
      "cell_type": "code",
      "metadata": {
        "id": "aKcv9TE63iDg"
      },
      "source": [
        "def bag_of_words(s, words):\n",
        "    bag = [0 for _ in range(len(words))]\n",
        "\n",
        "    s_words = nltk.word_tokenize(s)\n",
        "    s_words = [stemmer.stem(word.lower()) for word in s_words]\n",
        "\n",
        "    for se in s_words:\n",
        "        for i, w in enumerate(words):\n",
        "            if w == se:\n",
        "                bag[i] = 1\n",
        "            \n",
        "    return numpy.array(bag)\n",
        "\n",
        "\n",
        "def chat():\n",
        "    print(\"Start talking with the bot (type quit to stop)!\")\n",
        "    while True:\n",
        "        inp = input(\"You: \")\n",
        "        if inp.lower() == \"quit\":\n",
        "            break\n",
        "\n",
        "        results = model.predict([bag_of_words(inp, words)])\n",
        "        results_index = numpy.argmax(results)\n",
        "        tag = labels[results_index]\n",
        "\n",
        "        for tg in data[\"intents\"]:\n",
        "            if tg['tag'] == tag:\n",
        "                responses = tg['responses']\n",
        "\n",
        "        print(random.choice(responses))\n"
      ],
      "execution_count": 6,
      "outputs": []
    },
    {
      "cell_type": "markdown",
      "metadata": {
        "id": "BsU3Ahcy7Tk7"
      },
      "source": [
        "#### 최종 실행 함수 생성"
      ]
    },
    {
      "cell_type": "code",
      "metadata": {
        "colab": {
          "base_uri": "https://localhost:8080/"
        },
        "id": "d8sy6XeC3iRo",
        "outputId": "6ff82547-1c52-4ee3-fd31-467f70c2f41c"
      },
      "source": [
        "chat()"
      ],
      "execution_count": 10,
      "outputs": [
        {
          "name": "stdout",
          "output_type": "stream",
          "text": [
            "Start talking with the bot (type quit to stop)!\n",
            "You: 하이\n",
            "무엇을 도와드릴까요?\n",
            "You: 시간\n",
            "처음 뵙겠습니다.\n",
            "You: 운영 시간\n",
            "무엇을 도와드릴까요?\n",
            "You: 고객 센터\n",
            "우리는 09시 부터 22시까지 운영합니다.\n",
            "You: 광고\n",
            "광고에 대한 자세한 답변은 고객센터로 직접 전화를 주세요\n",
            "You: quit\n"
          ]
        }
      ]
    }
  ]
}