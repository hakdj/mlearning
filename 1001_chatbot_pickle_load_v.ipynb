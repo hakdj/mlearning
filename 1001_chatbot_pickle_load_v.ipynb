{
  "nbformat": 4,
  "nbformat_minor": 0,
  "metadata": {
    "colab": {
      "name": "1001_chatbot_pickle_load_v.ipynb",
      "provenance": [],
      "collapsed_sections": [],
      "authorship_tag": "ABX9TyN/16GFsyDTHNPG1i7QFjhb",
      "include_colab_link": true
    },
    "kernelspec": {
      "name": "python3",
      "display_name": "Python 3"
    },
    "language_info": {
      "name": "python"
    }
  },
  "cells": [
    {
      "cell_type": "markdown",
      "metadata": {
        "id": "view-in-github",
        "colab_type": "text"
      },
      "source": [
        "<a href=\"https://colab.research.google.com/github/hakdj/mlearning/blob/master/1001_chatbot_pickle_load_v.ipynb\" target=\"_parent\"><img src=\"https://colab.research.google.com/assets/colab-badge.svg\" alt=\"Open In Colab\"/></a>"
      ]
    },
    {
      "cell_type": "markdown",
      "metadata": {
        "id": "3GuPCmVQ6hm-"
      },
      "source": [
        "0928chatbot에서 픽클 저장후 불러온 픽클로 돌리기"
      ]
    },
    {
      "cell_type": "markdown",
      "metadata": {
        "id": "5W7n8jAk6wGW"
      },
      "source": [
        "!pip는 ipynb에서 설치때문에"
      ]
    },
    {
      "cell_type": "code",
      "metadata": {
        "id": "GiKgGiJowm8s"
      },
      "source": [
        "!pip install numpy\n",
        "!pip install nltk\n",
        "!pip install tensorflow\n",
        "!pip install tflearn"
      ],
      "execution_count": null,
      "outputs": []
    },
    {
      "cell_type": "markdown",
      "metadata": {
        "id": "B-pv_ikD7Ag6"
      },
      "source": [
        "아래 import만 있음 됨"
      ]
    },
    {
      "cell_type": "code",
      "metadata": {
        "colab": {
          "base_uri": "https://localhost:8080/"
        },
        "id": "2t9j1sstwjcG",
        "outputId": "da798d78-aadd-4f95-fdd8-b1d10472ea3c"
      },
      "source": [
        "import nltk\n",
        "from nltk.stem.lancaster import LancasterStemmer\n",
        "stemmer = LancasterStemmer()\n",
        "\n",
        "import numpy\n",
        "import tflearn\n",
        "import tensorflow\n",
        "import random\n",
        "\n",
        "import pickle\n",
        "import json\n",
        "from tensorflow.python.framework import ops\n",
        "nltk.download('punkt')"
      ],
      "execution_count": 46,
      "outputs": [
        {
          "output_type": "stream",
          "name": "stdout",
          "text": [
            "[nltk_data] Downloading package punkt to /root/nltk_data...\n",
            "[nltk_data]   Unzipping tokenizers/punkt.zip.\n"
          ]
        },
        {
          "output_type": "execute_result",
          "data": {
            "text/plain": [
              "True"
            ]
          },
          "metadata": {},
          "execution_count": 46
        }
      ]
    },
    {
      "cell_type": "markdown",
      "metadata": {
        "id": "5r1Ckz-n7GGe"
      },
      "source": [
        "#### 집밥 json 데이터를 data로 로드시키기"
      ]
    },
    {
      "cell_type": "code",
      "metadata": {
        "id": "eEVjGQhx30dq"
      },
      "source": [
        "with open('Zipbob_chatbotdata.json' ,encoding='UTF8') as file:\n",
        "    data = json.load(file)"
      ],
      "execution_count": 48,
      "outputs": []
    },
    {
      "cell_type": "markdown",
      "metadata": {
        "id": "_YF4EF3A7Jam"
      },
      "source": [
        "#### 집밥 pickle 데이터를 열고 words,labels... 으로 불러오기"
      ]
    },
    {
      "cell_type": "code",
      "metadata": {
        "id": "Wh7fXjmPvbWv"
      },
      "source": [
        "  with open(\"Zipbobchat.pickle\", \"rb\") as f:\n",
        "        words, labels, training, output=pickle.load(f)"
      ],
      "execution_count": 40,
      "outputs": []
    },
    {
      "cell_type": "markdown",
      "metadata": {
        "id": "3fd-XCGe7O1D"
      },
      "source": [
        "#### 아래 코드는 챗봇 구현 코드"
      ]
    },
    {
      "cell_type": "code",
      "metadata": {
        "colab": {
          "base_uri": "https://localhost:8080/"
        },
        "id": "aKj2JS6cwzTA",
        "outputId": "258b4a66-c716-41c8-b5b5-327f7944bbfd"
      },
      "source": [
        "ops.reset_default_graph()\n",
        "\n",
        "net = tflearn.input_data(shape=[None, len(training[0])])\n",
        "net = tflearn.fully_connected(net, 8)\n",
        "net = tflearn.fully_connected(net, 8)\n",
        "net = tflearn.fully_connected(net, len(output[0]), activation=\"softmax\")\n",
        "net = tflearn.regression(net)\n",
        "\n",
        "model = tflearn.DNN(net)\n",
        "\n",
        "try:\n",
        "    model.load(\"model.tflearn\")\n",
        "except:\n",
        "    model.fit(training, output, n_epoch=1000, batch_size=8, show_metric=True)\n",
        "    model.save(\"model.tflearn\")"
      ],
      "execution_count": 42,
      "outputs": [
        {
          "output_type": "stream",
          "name": "stdout",
          "text": [
            "INFO:tensorflow:Restoring parameters from /content/model.tflearn\n"
          ]
        }
      ]
    },
    {
      "cell_type": "code",
      "metadata": {
        "id": "aKcv9TE63iDg"
      },
      "source": [
        "def bag_of_words(s, words):\n",
        "    bag = [0 for _ in range(len(words))]\n",
        "\n",
        "    s_words = nltk.word_tokenize(s)\n",
        "    s_words = [stemmer.stem(word.lower()) for word in s_words]\n",
        "\n",
        "    for se in s_words:\n",
        "        for i, w in enumerate(words):\n",
        "            if w == se:\n",
        "                bag[i] = 1\n",
        "            \n",
        "    return numpy.array(bag)\n",
        "\n",
        "\n",
        "def chat():\n",
        "    print(\"Start talking with the bot (type quit to stop)!\")\n",
        "    while True:\n",
        "        inp = input(\"You: \")\n",
        "        if inp.lower() == \"quit\":\n",
        "            break\n",
        "\n",
        "        results = model.predict([bag_of_words(inp, words)])\n",
        "        results_index = numpy.argmax(results)\n",
        "        tag = labels[results_index]\n",
        "\n",
        "        for tg in data[\"intents\"]:\n",
        "            if tg['tag'] == tag:\n",
        "                responses = tg['responses']\n",
        "\n",
        "        print(random.choice(responses))\n"
      ],
      "execution_count": 43,
      "outputs": []
    },
    {
      "cell_type": "markdown",
      "metadata": {
        "id": "BsU3Ahcy7Tk7"
      },
      "source": [
        "#### 동작 완료"
      ]
    },
    {
      "cell_type": "code",
      "metadata": {
        "colab": {
          "base_uri": "https://localhost:8080/"
        },
        "id": "d8sy6XeC3iRo",
        "outputId": "1d660939-3732-4d8a-d9aa-b09ac288bfb7"
      },
      "source": [
        "chat()"
      ],
      "execution_count": 49,
      "outputs": [
        {
          "name": "stdout",
          "output_type": "stream",
          "text": [
            "Start talking with the bot (type quit to stop)!\n",
            "You: 하이\n",
            "무슨 일인가요?\n",
            "You: quit\n"
          ]
        }
      ]
    }
  ]
}